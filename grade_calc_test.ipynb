{
 "cells": [
  {
   "cell_type": "code",
   "execution_count": 41,
   "metadata": {},
   "outputs": [],
   "source": [
    "classinfo = dict()"
   ]
  },
  {
   "cell_type": "code",
   "execution_count": 42,
   "metadata": {},
   "outputs": [],
   "source": [
    "classinfo['class'] = 'MATH133'"
   ]
  },
  {
   "cell_type": "code",
   "execution_count": 43,
   "metadata": {},
   "outputs": [],
   "source": [
    "classinfo['quiz'] = ('10','88')"
   ]
  },
  {
   "cell_type": "code",
   "execution_count": 44,
   "metadata": {},
   "outputs": [],
   "source": [
    "classinfo['ass'] = ('10', '86')"
   ]
  },
  {
   "cell_type": "code",
   "execution_count": 45,
   "metadata": {},
   "outputs": [],
   "source": [
    "classinfo['mid'] = ('10', '89')"
   ]
  },
  {
   "cell_type": "code",
   "execution_count": 46,
   "metadata": {},
   "outputs": [],
   "source": [
    "classinfo['Target'] = ('50', '85')"
   ]
  },
  {
   "cell_type": "code",
   "execution_count": 47,
   "metadata": {},
   "outputs": [],
   "source": [
    "classinfo['Misc1'] = ('10','88')"
   ]
  },
  {
   "cell_type": "code",
   "execution_count": 48,
   "metadata": {},
   "outputs": [],
   "source": [
    "classinfo['Misc2'] = ('','')"
   ]
  },
  {
   "cell_type": "code",
   "execution_count": 49,
   "metadata": {},
   "outputs": [
    {
     "data": {
      "text/plain": [
       "{'class': 'MATH133',\n",
       " 'quiz': ('10', '88'),\n",
       " 'ass': ('10', '86'),\n",
       " 'mid': ('10', '89'),\n",
       " 'Target': ('50', '85'),\n",
       " 'Misc1': ('10', '88'),\n",
       " 'Misc2': ('', '')}"
      ]
     },
     "execution_count": 49,
     "metadata": {},
     "output_type": "execute_result"
    }
   ],
   "source": [
    "classinfo"
   ]
  },
  {
   "cell_type": "code",
   "execution_count": 54,
   "metadata": {},
   "outputs": [],
   "source": [
    "#value entry error check\n",
    "for i,j in classinfo.items():\n",
    "        if len(j) == 2:\n",
    "            try:\n",
    "                float(j[0])\n",
    "                float(j[1])\n",
    "            except ValueError:\n",
    "                print('warning!')"
   ]
  },
  {
   "cell_type": "code",
   "execution_count": 50,
   "metadata": {},
   "outputs": [],
   "source": [
    "#change blank fields to zero\n",
    "for i,j in classinfo.items():\n",
    "    if j[0] == '' or j[1] == '':\n",
    "        classinfo[i] = ('0', '0')"
   ]
  },
  {
   "cell_type": "code",
   "execution_count": 51,
   "metadata": {},
   "outputs": [
    {
     "data": {
      "text/plain": [
       "{'class': 'MATH133',\n",
       " 'quiz': ('10', '88'),\n",
       " 'ass': ('10', '86'),\n",
       " 'mid': ('10', '89'),\n",
       " 'Target': ('50', '85'),\n",
       " 'Misc1': ('10', '88'),\n",
       " 'Misc2': ('0', '0')}"
      ]
     },
     "execution_count": 51,
     "metadata": {},
     "output_type": "execute_result"
    }
   ],
   "source": [
    "classinfo"
   ]
  },
  {
   "cell_type": "code",
   "execution_count": 52,
   "metadata": {},
   "outputs": [
    {
     "name": "stdout",
     "output_type": "stream",
     "text": [
      "warning!\n"
     ]
    }
   ],
   "source": [
    "#warning for grade wt sum error\n",
    "mysum = 0\n",
    "for val in classinfo.values():\n",
    "    if len(val) == 2:\n",
    "        mysum = mysum + float(val[0])\n",
    "\n",
    "if mysum != 100.0:\n",
    "    print('warning!')"
   ]
  },
  {
   "cell_type": "code",
   "execution_count": 38,
   "metadata": {},
   "outputs": [],
   "source": [
    "turn=0\n",
    "for i, j in classinfo.items():\n",
    "    if isinstance(j, str) != True:\n",
    "        if i != 'Target' and i != 'classname':\n",
    "            if turn == 0:\n",
    "                mark = float(j[1])*(0.01*float(j[0]))\n",
    "            if turn != 0:\n",
    "                mark1 = float(j[1])*(0.01*float(j[0]))\n",
    "                mark = mark1 + mark\n",
    "            turn +=1\n",
    "        if i == 'Target':\n",
    "            pass"
   ]
  },
  {
   "cell_type": "code",
   "execution_count": 39,
   "metadata": {},
   "outputs": [],
   "source": [
    "for i, j in classinfo.items():\n",
    "    if isinstance(j, str) != True:\n",
    "        if i == 'Target':\n",
    "            target_mark = float(j[1]) - mark\n",
    "            mark_reqd = (target_mark / float(j[0]))*100"
   ]
  },
  {
   "cell_type": "code",
   "execution_count": 40,
   "metadata": {},
   "outputs": [
    {
     "data": {
      "text/plain": [
       "81.60000000000001"
      ]
     },
     "execution_count": 40,
     "metadata": {},
     "output_type": "execute_result"
    }
   ],
   "source": [
    "mark_reqd"
   ]
  },
  {
   "cell_type": "markdown",
   "metadata": {},
   "source": []
  }
 ],
 "metadata": {
  "kernelspec": {
   "display_name": "Python 3",
   "language": "python",
   "name": "python3"
  },
  "language_info": {
   "codemirror_mode": {
    "name": "ipython",
    "version": 3
   },
   "file_extension": ".py",
   "mimetype": "text/x-python",
   "name": "python",
   "nbconvert_exporter": "python",
   "pygments_lexer": "ipython3",
   "version": "3.8.3"
  }
 },
 "nbformat": 4,
 "nbformat_minor": 4
}
